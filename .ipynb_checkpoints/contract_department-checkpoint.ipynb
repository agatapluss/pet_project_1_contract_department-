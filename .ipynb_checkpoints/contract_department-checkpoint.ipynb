{
 "cells": [
  {
   "cell_type": "code",
   "execution_count": 196,
   "id": "f324a36e",
   "metadata": {},
   "outputs": [],
   "source": [
    "import pandas as pd\n",
    "import numpy as np\n",
    "\n",
    "import warnings\n",
    "warnings.filterwarnings('ignore')"
   ]
  },
  {
   "cell_type": "markdown",
   "id": "4c69b3c4",
   "metadata": {},
   "source": [
    "Информация по талицам:\n",
    "\n",
    "contractor_test - информация о контрагентах \n",
    "\n",
    " - id - идентификационный номер\n",
    " - name_contractor - название компании контрагента\n",
    " - form - передача форм собственности предприятий\n",
    " - ITN - ИНН\n",
    " \n",
    "contractor_test - информация о контранках\n",
    "\n",
    " - number - номер договора\n",
    " - data - дата заключения договора\n",
    " - INT_contractor - ИНН контрагента, с которым заключен Договор\n",
    " - our_template\t - наш шаблон Договора (1 - Наш договор; 0 - Договор контрагента)\n",
    " - price - стоимость контракта \n",
    " - object - объект строительства\n",
    " - gu - гарантийные удержания\n",
    " - gp - ген.услуги\n",
    " - prepayment - аванс\n"
   ]
  },
  {
   "cell_type": "code",
   "execution_count": 217,
   "id": "f23932d7",
   "metadata": {},
   "outputs": [],
   "source": [
    "# Информация о Контрактах\n",
    "\n",
    "class WorkWithContract:\n",
    "    number_contr : str\n",
    "    \n",
    "    \"\"\"##### Функция добовляет новый контракт в датафрейм\n",
    "# Нужно доработать тонкости связанные с типами вводимых данных\n",
    "# И функции автозаполнения в случае, если шаблон наш\n",
    "# Проверка Номера Договора через isin()\"\"\"\n",
    "    \n",
    "    def __init__(self, data, number_contr):\n",
    "        self.data = data\n",
    "        self.gu = 0.05\n",
    "        self.gp = 0.02\n",
    "        self.number_contr = number_contr\n",
    "        \n",
    "    def check_number(self, data, number_contr):\n",
    "# Проверка на наличие номера Договора в Базе\n",
    "        if self.data.isin({'number' : self.number_contr}).any()[0]:\n",
    "            print(f'Контракт c № {self.number_contr} уже есть в Базе')\n",
    "        else:\n",
    "            print(f'Номер {self.number_contr} свободен, можно использовать!')\n",
    "        \n",
    "        \n",
    "    def new_contract(self, data):\n",
    "        \n",
    "# Добавление нового контракта в Базу\n",
    "        new_row = {}\n",
    "        for i in self.data.columns:\n",
    "            print(f'Введите информацию {i}')\n",
    "            a = input()\n",
    "            new_row[i] = a\n",
    "#             if i == 'our_template':\n",
    "#                 if a == 1:\n",
    "        new_row_1 = pd.Series(data=new_row)\n",
    "        self.data = self.data.append(new_row_1, ignore_index=True)\n",
    "       \n",
    "        return self.data\n",
    "    \n",
    "# Удаление Договора из базы по номеру Договора\n",
    "# Можно переносить егов отдельную Базу\n",
    "\n",
    "    def drop_contract(self, data, number_contr):     \n",
    "        self.data.set_index('number', inplace = True)\n",
    "        self.data.drop(self.number_contr, inplace = True)\n",
    "        print(f'Договор № {self.number_contr} удален из базы!!!!')\n",
    "        self.data.reset_index(inplace=True)\n",
    "        return self.data\n",
    "        \n",
    "\n",
    "\n",
    "\n"
   ]
  },
  {
   "cell_type": "code",
   "execution_count": null,
   "id": "7f39b49d",
   "metadata": {},
   "outputs": [],
   "source": [
    "# Информация о Контрагентах\n",
    "\n",
    "class WorkWithContractor:\n",
    "    \n",
    "    def __init__(self, contractor):\n",
    "        self.contractor = contractor #База со сведеньями о Контрагентах\n",
    "        \n",
    "    def check_contractor1(contractor):\n",
    "# Проверка на наличие контрагента в Базе по ИНН\n",
    "        contractor['ITN'] = contractor['ITN'].astype(str) # Убрать после того, как разберусь с типами во всех таблица\n",
    "        print(f'Введите ИНН контрагента')\n",
    "        ITN_contractor = input()\n",
    "        if contractor.isin({'ITN' : [ITN_contractor]}).any()[0]:\n",
    "            print(f'Контрагент с ИНН {ITN_contractor} уже есть в Базе')\n",
    "            return contractor[contractor['ITN'] == ITN_contractor]\n",
    "        else:\n",
    "            print(f'Контрагентa c ИНН {ITN_contractor} нет в Базе Контрагентов')"
   ]
  },
  {
   "cell_type": "code",
   "execution_count": 285,
   "id": "f4384960",
   "metadata": {},
   "outputs": [],
   "source": []
  },
  {
   "cell_type": "code",
   "execution_count": 286,
   "id": "26423b26",
   "metadata": {},
   "outputs": [],
   "source": [
    "contractor['ITN'] = contractor['ITN'].astype(str)"
   ]
  },
  {
   "cell_type": "code",
   "execution_count": 288,
   "id": "14fa257a",
   "metadata": {},
   "outputs": [
    {
     "name": "stdout",
     "output_type": "stream",
     "text": [
      "Введите ИНН контрагента\n",
      "555\n",
      "Контрагентa c ИНН 555 нет в Базе Контрагентов\n"
     ]
    }
   ],
   "source": [
    "check_contractor1(contractor)"
   ]
  },
  {
   "cell_type": "code",
   "execution_count": 199,
   "id": "f7724670",
   "metadata": {},
   "outputs": [
    {
     "ename": "IndentationError",
     "evalue": "expected an indented block (Temp/ipykernel_9084/426056376.py, line 19)",
     "output_type": "error",
     "traceback": [
      "\u001b[1;36m  File \u001b[1;32m\"C:\\Users\\agata\\AppData\\Local\\Temp/ipykernel_9084/426056376.py\"\u001b[1;36m, line \u001b[1;32m19\u001b[0m\n\u001b[1;33m    def __inin__(self, data):\u001b[0m\n\u001b[1;37m                             ^\u001b[0m\n\u001b[1;31mIndentationError\u001b[0m\u001b[1;31m:\u001b[0m expected an indented block\n"
     ]
    }
   ],
   "source": [
    "# Расчёт задолности по Объекту\n",
    "class ObjectDebt(): \n",
    "    \n",
    "    def __init__(self, data):\n",
    "        self.data = data\n",
    "    \n",
    "# Расчёт задолности по Контрагенту\n",
    "\n",
    "\n",
    "class CotractorDebt():\n",
    "\n",
    "    def __init__(self, data):\n",
    "        self.data = data\n",
    "\n",
    "# Расчёт задолности по Контракту\n",
    "\n",
    "class ContractDebt():\n",
    "    \n",
    "    def __inin__(self, data):"
   ]
  },
  {
   "cell_type": "code",
   "execution_count": 267,
   "id": "ff6f02e2",
   "metadata": {},
   "outputs": [],
   "source": [
    "contractor = pd.read_csv('contractor_test.csv', sep =';')"
   ]
  },
  {
   "cell_type": "code",
   "execution_count": 268,
   "id": "84913e3b",
   "metadata": {},
   "outputs": [
    {
     "data": {
      "text/html": [
       "<div>\n",
       "<style scoped>\n",
       "    .dataframe tbody tr th:only-of-type {\n",
       "        vertical-align: middle;\n",
       "    }\n",
       "\n",
       "    .dataframe tbody tr th {\n",
       "        vertical-align: top;\n",
       "    }\n",
       "\n",
       "    .dataframe thead th {\n",
       "        text-align: right;\n",
       "    }\n",
       "</style>\n",
       "<table border=\"1\" class=\"dataframe\">\n",
       "  <thead>\n",
       "    <tr style=\"text-align: right;\">\n",
       "      <th></th>\n",
       "      <th>ITN</th>\n",
       "      <th>name_contractor</th>\n",
       "      <th>form</th>\n",
       "    </tr>\n",
       "  </thead>\n",
       "  <tbody>\n",
       "    <tr>\n",
       "      <th>0</th>\n",
       "      <td>7816659721</td>\n",
       "      <td>ПСК Аракс</td>\n",
       "      <td>ООО</td>\n",
       "    </tr>\n",
       "    <tr>\n",
       "      <th>1</th>\n",
       "      <td>7811147430</td>\n",
       "      <td>ПЕТРОПРОФИЛЬ ПЛЮС</td>\n",
       "      <td>OOO</td>\n",
       "    </tr>\n",
       "    <tr>\n",
       "      <th>2</th>\n",
       "      <td>1657147001</td>\n",
       "      <td>ОТИС ГРУПП</td>\n",
       "      <td>'OOO'</td>\n",
       "    </tr>\n",
       "  </tbody>\n",
       "</table>\n",
       "</div>"
      ],
      "text/plain": [
       "          ITN    name_contractor   form\n",
       "0  7816659721          ПСК Аракс    ООО\n",
       "1  7811147430  ПЕТРОПРОФИЛЬ ПЛЮС    OOO\n",
       "2  1657147001         ОТИС ГРУПП  'OOO'"
      ]
     },
     "execution_count": 268,
     "metadata": {},
     "output_type": "execute_result"
    }
   ],
   "source": [
    "contractor"
   ]
  },
  {
   "cell_type": "code",
   "execution_count": 269,
   "id": "ff16ec39",
   "metadata": {},
   "outputs": [
    {
     "data": {
      "text/html": [
       "<div>\n",
       "<style scoped>\n",
       "    .dataframe tbody tr th:only-of-type {\n",
       "        vertical-align: middle;\n",
       "    }\n",
       "\n",
       "    .dataframe tbody tr th {\n",
       "        vertical-align: top;\n",
       "    }\n",
       "\n",
       "    .dataframe thead th {\n",
       "        text-align: right;\n",
       "    }\n",
       "</style>\n",
       "<table border=\"1\" class=\"dataframe\">\n",
       "  <thead>\n",
       "    <tr style=\"text-align: right;\">\n",
       "      <th></th>\n",
       "      <th>ITN</th>\n",
       "      <th>name_contractor</th>\n",
       "      <th>form</th>\n",
       "    </tr>\n",
       "  </thead>\n",
       "  <tbody>\n",
       "    <tr>\n",
       "      <th>0</th>\n",
       "      <td>7816659721</td>\n",
       "      <td>ПСК Аракс</td>\n",
       "      <td>ООО</td>\n",
       "    </tr>\n",
       "  </tbody>\n",
       "</table>\n",
       "</div>"
      ],
      "text/plain": [
       "          ITN name_contractor form\n",
       "0  7816659721       ПСК Аракс  ООО"
      ]
     },
     "execution_count": 269,
     "metadata": {},
     "output_type": "execute_result"
    }
   ],
   "source": [
    "contractor[contractor['ITN'] == 7816659721]"
   ]
  },
  {
   "cell_type": "code",
   "execution_count": 276,
   "id": "5c83d035",
   "metadata": {},
   "outputs": [
    {
     "data": {
      "text/plain": [
       "True"
      ]
     },
     "execution_count": 276,
     "metadata": {},
     "output_type": "execute_result"
    }
   ],
   "source": [
    "contractor.isin({'ITN' : [7816659721]}).any()[0]"
   ]
  },
  {
   "cell_type": "code",
   "execution_count": 191,
   "id": "f442704a",
   "metadata": {},
   "outputs": [],
   "source": [
    "data2 = pd.read_csv('contract _test.csv', sep =';')"
   ]
  },
  {
   "cell_type": "code",
   "execution_count": 192,
   "id": "44a733e5",
   "metadata": {},
   "outputs": [
    {
     "data": {
      "text/html": [
       "<div>\n",
       "<style scoped>\n",
       "    .dataframe tbody tr th:only-of-type {\n",
       "        vertical-align: middle;\n",
       "    }\n",
       "\n",
       "    .dataframe tbody tr th {\n",
       "        vertical-align: top;\n",
       "    }\n",
       "\n",
       "    .dataframe thead th {\n",
       "        text-align: right;\n",
       "    }\n",
       "</style>\n",
       "<table border=\"1\" class=\"dataframe\">\n",
       "  <thead>\n",
       "    <tr style=\"text-align: right;\">\n",
       "      <th></th>\n",
       "      <th>number</th>\n",
       "      <th>data</th>\n",
       "      <th>INT_contractor</th>\n",
       "      <th>our_template</th>\n",
       "      <th>price</th>\n",
       "      <th>object</th>\n",
       "      <th>gu</th>\n",
       "      <th>gp</th>\n",
       "      <th>prepayment</th>\n",
       "    </tr>\n",
       "  </thead>\n",
       "  <tbody>\n",
       "    <tr>\n",
       "      <th>0</th>\n",
       "      <td>ЛТС-123</td>\n",
       "      <td>12.02.2021</td>\n",
       "      <td>7816659721</td>\n",
       "      <td>1</td>\n",
       "      <td>1300000.0</td>\n",
       "      <td>NEW_TIME</td>\n",
       "      <td>0.05</td>\n",
       "      <td>0,02</td>\n",
       "      <td>0</td>\n",
       "    </tr>\n",
       "  </tbody>\n",
       "</table>\n",
       "</div>"
      ],
      "text/plain": [
       "    number        data  INT_contractor  our_template      price    object  \\\n",
       "0  ЛТС-123  12.02.2021      7816659721             1  1300000.0  NEW_TIME   \n",
       "\n",
       "     gu    gp  prepayment  \n",
       "0  0.05  0,02           0  "
      ]
     },
     "execution_count": 192,
     "metadata": {},
     "output_type": "execute_result"
    }
   ],
   "source": [
    "data2"
   ]
  },
  {
   "cell_type": "code",
   "execution_count": 245,
   "id": "b517d4ae",
   "metadata": {},
   "outputs": [],
   "source": [
    "def check_number1(data, number_contr):\n",
    "    if data.isin({'number' : [number_contr]}).any()[0]:\n",
    "        print(f'Контракт c № {number_contr} уже есть в Базе')\n",
    "    else:\n",
    "        print(f'Номер {number_contr} свободен, можно использовать!')"
   ]
  },
  {
   "cell_type": "code",
   "execution_count": null,
   "id": "17f67c7a",
   "metadata": {},
   "outputs": [],
   "source": [
    "def new_contract1(data):\n",
    "    new_row = {}\n",
    "    for i in data.columns:\n",
    "        print(f'Введите информацию {i}')\n",
    "        a = input()\n",
    "        new_row[i] = a\n",
    "#             if i == 'our_template':\n",
    "#                 if a == 1:\n",
    "    new_row = pd.Series(data=new_row)\n",
    "    return data.append(new_row, ignore_index=True)"
   ]
  },
  {
   "cell_type": "code",
   "execution_count": 194,
   "id": "c9f1dc3d",
   "metadata": {},
   "outputs": [],
   "source": [
    "def drop_contract1(data, number_contr):\n",
    "        \"\"\" Удаление по номеру контракта\"\"\"\n",
    "        data.set_index('number', inplace = True)\n",
    "        data.drop(number_contr, inplace = True)\n",
    "        print(f'Договор № {number_contr} удален из базы')\n",
    "        data.reset_index(inplace=True)\n",
    "        return data"
   ]
  },
  {
   "cell_type": "code",
   "execution_count": null,
   "id": "7d6cdc18",
   "metadata": {},
   "outputs": [],
   "source": [
    "def check_contractor1(contractor):\n",
    "# Проверка на наличие контрагента в Базе по ИНН\n",
    "    contractor['ITN'] = contractor['ITN'].astype(str) # Убрать после того, как разберусь с типами во всех таблица\n",
    "    print(f'Введите ИНН контрагента')\n",
    "    ITN_contractor = input()\n",
    "    if contractor.isin({'ITN' : [ITN_contractor]}).any()[0]:\n",
    "        print(f'Контрагент с ИНН {ITN_contractor} уже есть в Базе')\n",
    "        return contractor[contractor['ITN'] == ITN_contractor]\n",
    "    else:\n",
    "        print(f'Контрагентa c ИНН {ITN_contractor} нет в Базе Контрагентов')"
   ]
  }
 ],
 "metadata": {
  "kernelspec": {
   "display_name": "Python 3 (ipykernel)",
   "language": "python",
   "name": "python3"
  },
  "language_info": {
   "codemirror_mode": {
    "name": "ipython",
    "version": 3
   },
   "file_extension": ".py",
   "mimetype": "text/x-python",
   "name": "python",
   "nbconvert_exporter": "python",
   "pygments_lexer": "ipython3",
   "version": "3.9.7"
  }
 },
 "nbformat": 4,
 "nbformat_minor": 5
}
