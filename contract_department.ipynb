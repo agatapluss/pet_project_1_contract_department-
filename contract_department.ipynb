{
 "cells": [
  {
   "cell_type": "code",
   "execution_count": 150,
   "id": "f324a36e",
   "metadata": {},
   "outputs": [],
   "source": [
    "import pandas as pd\n",
    "import numpy as np\n",
    "from datetime import datetime\n",
    "\n",
    "import warnings\n",
    "warnings.filterwarnings('ignore')"
   ]
  },
  {
   "cell_type": "markdown",
   "id": "4c69b3c4",
   "metadata": {},
   "source": [
    "Информация по талицам:\n",
    "\n",
    "contractor_test - информация о контрагентах \n",
    "\n",
    " - ITN - ИНН\n",
    " - name_contractor - название компании контрагента\n",
    " - form - передача форм собственности предприятий\n",
    "\n",
    " \n",
    "contractor_test - информация о контранках\n",
    "\n",
    " - number - номер договора\n",
    " - date - дата заключения договора\n",
    " - ITN_contractor - ИНН контрагента, с которым заключен Договор\n",
    " - our_template\t - наш шаблон Договора (1 - Наш договор; 0 - Договор контрагента)\n",
    " - price - стоимость контракта \n",
    " - object - объект строительства\n",
    " - gu - гарантийные удержания\n",
    " - gp - ген.услуги\n",
    " - prepayment - аванс (Доля от стоисоти договора)\n"
   ]
  },
  {
   "cell_type": "code",
   "execution_count": 151,
   "id": "f23932d7",
   "metadata": {},
   "outputs": [],
   "source": [
    "# Информация о Контрактах\n",
    "\n",
    "class WorkWithContract:\n",
    "    data : pd.DataFrame\n",
    "    copy: bool\n",
    "    \n",
    "    \"\"\"# Нужно доработать тонкости связанные с типами вводимых данных\"\"\"\n",
    "    \n",
    "    def __init__(self, data, copy: bool = False):\n",
    "        self.data = data\n",
    "        self.info = {'number' : 'номер договора',\n",
    "                'date': 'дата заключения договора в формате DD.MM.YYYY',\n",
    "                'ITN_contractor' : 'ИНН контрагента, с которым заключен Договор',\n",
    "                'price' : 'стоимость контракта', \n",
    "                'object' : 'объект строительства', \n",
    "                'our_template': 'наш шаблон Договора (1 - Наш договор; 0 - Договор контрагента)',\n",
    "                'gu' : 'гарантийные удержания',\n",
    "                'gp' : 'ген.услуги',\n",
    "                'prepayment' : 'аванс (Доля от стоисоти договора)'}\n",
    "        self.gu = 0.05\n",
    "        self.gp = 0.02\n",
    "        self.prepayment = 0.30\n",
    "        if copy:\n",
    "            self.data = data.copy()\n",
    "        else:\n",
    "            self.data = data\n",
    "            \n",
    "    \n",
    "        \n",
    "    def check_number(self, other):\n",
    "# Проверка на наличие номера Договора в Базе\n",
    "        if self.data.isin({'number' : other}).any()[0]:\n",
    "            print(f'Контракт c № {other} уже есть в Базе')\n",
    "        else:\n",
    "            print(f'Номер {other} свободен, можно использовать!')\n",
    "            \n",
    "            \n",
    "    def our_template(self):\n",
    "        pass\n",
    "        \n",
    "        \n",
    "    def new_contract(self):      \n",
    "# Добавление нового контракта в Базу\n",
    "        new_row = {}\n",
    "        for i in self.data.columns:\n",
    "            print(f'Введите информацию {self.info[i]}')\n",
    "            a = input()\n",
    "            if i == 'date':\n",
    "                a = datetime.strptime(a, '%d.%m.%Y')\n",
    "            elif i in ['price', 'gu', 'gp', 'prepayment']:\n",
    "                a = float(a)\n",
    "            new_row[i] = a\n",
    "            if i == 'our_template':\n",
    "                if a == '1':\n",
    "                    new_row['gu'] = self.gu\n",
    "                    new_row['gp'] = self.gp\n",
    "                    new_row['prepayment'] = self.prepayment\n",
    "                    print('Размер Гарантийных удержаний и Ген услуг проставлены согласно Стандартного шаблона Договора')\n",
    "                    break            \n",
    "        new_row_1 = pd.Series(data=new_row)\n",
    "        self.data = self.data.append(new_row_1, ignore_index=True)\n",
    "        print(f'Договор записан')\n",
    "        return self.data\n",
    "    \n",
    "# Удаление Договора из базы по номеру Договора\n",
    "# Можно переносить его в отдельную Базу\n",
    "\n",
    "    def drop_contract(self, other):     \n",
    "        self.data.set_index('number', inplace = True)\n",
    "        self.data.drop(other, inplace = True)\n",
    "        print(f'Договор № {other} удален из базы!!!!')\n",
    "        self.data.reset_index(inplace=True)\n",
    "        return self.data\n",
    "    \n",
    "    def change_terms(self):\n",
    "# Внесение изменений \n",
    "        pass\n",
    "\n",
    "    \n",
    "    def end_work(self):\n",
    "# Конец работы с документом и запись новой информации\n",
    "        today_day = datetime.today().strftime('%d-%m-%Y')\n",
    "        name_file = 'contract_{}.csv'\n",
    "        self.data.to_csv(name_file.format(today_day), index = False)\n",
    "        print('Файл записан')\n",
    "        \n",
    "\n",
    "\n",
    "\n"
   ]
  },
  {
   "cell_type": "code",
   "execution_count": 152,
   "id": "7eac3817",
   "metadata": {},
   "outputs": [],
   "source": [
    "data = pd.read_csv('contract_02-06-2022.csv')"
   ]
  },
  {
   "cell_type": "code",
   "execution_count": 153,
   "id": "93470a06",
   "metadata": {},
   "outputs": [],
   "source": [
    "new = WorkWithContract(data = data)\n",
    "# new.new_contract()"
   ]
  },
  {
   "cell_type": "code",
   "execution_count": 146,
   "id": "44cf84eb",
   "metadata": {},
   "outputs": [
    {
     "data": {
      "text/plain": [
       "pandas._libs.tslibs.timestamps.Timestamp"
      ]
     },
     "execution_count": 146,
     "metadata": {},
     "output_type": "execute_result"
    }
   ],
   "source": [
    "type(new.data['date'].loc[0])"
   ]
  },
  {
   "cell_type": "code",
   "execution_count": 147,
   "id": "62609b02",
   "metadata": {},
   "outputs": [
    {
     "data": {
      "text/html": [
       "<div>\n",
       "<style scoped>\n",
       "    .dataframe tbody tr th:only-of-type {\n",
       "        vertical-align: middle;\n",
       "    }\n",
       "\n",
       "    .dataframe tbody tr th {\n",
       "        vertical-align: top;\n",
       "    }\n",
       "\n",
       "    .dataframe thead th {\n",
       "        text-align: right;\n",
       "    }\n",
       "</style>\n",
       "<table border=\"1\" class=\"dataframe\">\n",
       "  <thead>\n",
       "    <tr style=\"text-align: right;\">\n",
       "      <th></th>\n",
       "      <th>number</th>\n",
       "      <th>date</th>\n",
       "      <th>INT_contractor</th>\n",
       "      <th>price</th>\n",
       "      <th>object</th>\n",
       "      <th>our_template</th>\n",
       "      <th>gu</th>\n",
       "      <th>gp</th>\n",
       "      <th>prepayment</th>\n",
       "    </tr>\n",
       "  </thead>\n",
       "  <tbody>\n",
       "    <tr>\n",
       "      <th>0</th>\n",
       "      <td>ЛТС-123</td>\n",
       "      <td>2021-12-02</td>\n",
       "      <td>7816659721</td>\n",
       "      <td>1300000.0</td>\n",
       "      <td>NEW_TIME</td>\n",
       "      <td>1</td>\n",
       "      <td>0.05</td>\n",
       "      <td>0,02</td>\n",
       "      <td>0.0</td>\n",
       "    </tr>\n",
       "    <tr>\n",
       "      <th>1</th>\n",
       "      <td>234</td>\n",
       "      <td>2022-12-06</td>\n",
       "      <td>1657147001</td>\n",
       "      <td>14000000.0</td>\n",
       "      <td>NEW_TIME</td>\n",
       "      <td>0</td>\n",
       "      <td>0.00</td>\n",
       "      <td>0</td>\n",
       "      <td>1.0</td>\n",
       "    </tr>\n",
       "    <tr>\n",
       "      <th>2</th>\n",
       "      <td>LTS-156</td>\n",
       "      <td>2019-12-08</td>\n",
       "      <td>1111111111</td>\n",
       "      <td>13000.0</td>\n",
       "      <td>NEW_TIME</td>\n",
       "      <td>0</td>\n",
       "      <td>0.00</td>\n",
       "      <td>0.05</td>\n",
       "      <td>0.1</td>\n",
       "    </tr>\n",
       "  </tbody>\n",
       "</table>\n",
       "</div>"
      ],
      "text/plain": [
       "    number       date  INT_contractor       price    object  our_template  \\\n",
       "0  ЛТС-123 2021-12-02      7816659721   1300000.0  NEW_TIME             1   \n",
       "1      234 2022-12-06      1657147001  14000000.0  NEW_TIME             0   \n",
       "2  LTS-156 2019-12-08      1111111111     13000.0  NEW_TIME             0   \n",
       "\n",
       "     gu    gp  prepayment  \n",
       "0  0.05  0,02         0.0  \n",
       "1  0.00     0         1.0  \n",
       "2  0.00  0.05         0.1  "
      ]
     },
     "execution_count": 147,
     "metadata": {},
     "output_type": "execute_result"
    }
   ],
   "source": [
    "new.data"
   ]
  },
  {
   "cell_type": "code",
   "execution_count": 148,
   "id": "7609518e",
   "metadata": {},
   "outputs": [
    {
     "name": "stdout",
     "output_type": "stream",
     "text": [
      "Файл записан\n"
     ]
    }
   ],
   "source": [
    "new.end_work()"
   ]
  },
  {
   "cell_type": "code",
   "execution_count": 212,
   "id": "7f39b49d",
   "metadata": {},
   "outputs": [],
   "source": [
    "# Информация о Контрагентах\n",
    "\n",
    "class WorkWithContractor():\n",
    "    data : pd.DataFrame\n",
    "    \n",
    "    def __init__(self, data):\n",
    "        self.data = data #База со сведеньями о Контрагентах\n",
    "        self.info = {'ITN': 'ИНН контрагента',\n",
    "                'name_contractor':'название компании контрагента',\n",
    "                'form' : 'передача форм собственности предприятий'}\n",
    "    \n",
    "    def check_contractor(self):\n",
    "# Проверка на наличие контрагента в Базе по ИНН\n",
    "        self.data['ITN'] = self.data['ITN'].astype(str) # Убрать после того, как разберусь с типами во всех таблица\n",
    "        print(f'Введите ИНН контрагента')\n",
    "        ITN_contractor = input()\n",
    "        if self.data.isin({'ITN' : [ITN_contractor]}).any()[0]:\n",
    "            print(f'Контрагент с ИНН {ITN_contractor} уже есть в Базе')\n",
    "            return self.data[self.data['ITN'] == ITN_contractor]\n",
    "        else:\n",
    "            print(f'Контрагентa c ИНН {ITN_contractor} нет в Базе Контрагентов')\n",
    "            \n",
    "    def new_contractor(self):      \n",
    "# Добавление нового контракта в Базу\n",
    "        new_row = {}\n",
    "        for i in self.data.columns:\n",
    "            print(f'Введите информацию {self.info[i]}')\n",
    "            a = input()\n",
    "            new_row[i] = a     \n",
    "        new_row_1 = pd.Series(data=new_row)\n",
    "        self.data = self.data.append(new_row_1, ignore_index=True)\n",
    "        print(f'Контрагент записан в Базу')\n",
    "        return self.data\n",
    "    \n",
    "    def drop_contractor(self, other):     \n",
    "        self.data.set_index('ITN', inplace = True)\n",
    "        self.data.drop(other, inplace = True)\n",
    "        print(f'Контрагент {other} удален из базы!!!!')\n",
    "        self.data.reset_index(inplace=True)\n",
    "        return self.data\n",
    "            \n",
    "    def end_work(self):\n",
    "# Конец работы с документом и запись новой информации\n",
    "        today_day = datetime.today().strftime('%d-%m-%Y')\n",
    "        name_file = 'contractor_{}.csv'\n",
    "        self.data.to_csv(name_file.format(today_day), index = False)\n",
    "        print('Файл записан')"
   ]
  },
  {
   "cell_type": "code",
   "execution_count": 213,
   "id": "00ee8728",
   "metadata": {},
   "outputs": [],
   "source": [
    "cont = pd.read_csv('contractor_02-06-2022.csv')"
   ]
  },
  {
   "cell_type": "code",
   "execution_count": 214,
   "id": "24f14f9d",
   "metadata": {},
   "outputs": [],
   "source": [
    "contractor = WorkWithContractor(cont)"
   ]
  },
  {
   "cell_type": "code",
   "execution_count": 215,
   "id": "d6369878",
   "metadata": {},
   "outputs": [
    {
     "data": {
      "text/html": [
       "<div>\n",
       "<style scoped>\n",
       "    .dataframe tbody tr th:only-of-type {\n",
       "        vertical-align: middle;\n",
       "    }\n",
       "\n",
       "    .dataframe tbody tr th {\n",
       "        vertical-align: top;\n",
       "    }\n",
       "\n",
       "    .dataframe thead th {\n",
       "        text-align: right;\n",
       "    }\n",
       "</style>\n",
       "<table border=\"1\" class=\"dataframe\">\n",
       "  <thead>\n",
       "    <tr style=\"text-align: right;\">\n",
       "      <th></th>\n",
       "      <th>ITN</th>\n",
       "      <th>name_contractor</th>\n",
       "      <th>form</th>\n",
       "    </tr>\n",
       "  </thead>\n",
       "  <tbody>\n",
       "  </tbody>\n",
       "</table>\n",
       "</div>"
      ],
      "text/plain": [
       "Empty DataFrame\n",
       "Columns: [ITN, name_contractor, form]\n",
       "Index: []"
      ]
     },
     "execution_count": 215,
     "metadata": {},
     "output_type": "execute_result"
    }
   ],
   "source": [
    "contractor.data"
   ]
  },
  {
   "cell_type": "code",
   "execution_count": 223,
   "id": "c209c6c8",
   "metadata": {},
   "outputs": [
    {
     "name": "stdout",
     "output_type": "stream",
     "text": [
      "Введите информацию ИНН контрагента\n",
      "7811583941\n",
      "Введите информацию название компании контрагента\n",
      "СК ПЕГАС\n",
      "Введите информацию передача форм собственности предприятий\n",
      "ООО\n",
      "Контрагент записан в Базу\n"
     ]
    },
    {
     "data": {
      "text/html": [
       "<div>\n",
       "<style scoped>\n",
       "    .dataframe tbody tr th:only-of-type {\n",
       "        vertical-align: middle;\n",
       "    }\n",
       "\n",
       "    .dataframe tbody tr th {\n",
       "        vertical-align: top;\n",
       "    }\n",
       "\n",
       "    .dataframe thead th {\n",
       "        text-align: right;\n",
       "    }\n",
       "</style>\n",
       "<table border=\"1\" class=\"dataframe\">\n",
       "  <thead>\n",
       "    <tr style=\"text-align: right;\">\n",
       "      <th></th>\n",
       "      <th>ITN</th>\n",
       "      <th>name_contractor</th>\n",
       "      <th>form</th>\n",
       "    </tr>\n",
       "  </thead>\n",
       "  <tbody>\n",
       "    <tr>\n",
       "      <th>0</th>\n",
       "      <td>7810727284</td>\n",
       "      <td>АКВАПОИНТ</td>\n",
       "      <td>ООО</td>\n",
       "    </tr>\n",
       "    <tr>\n",
       "      <th>1</th>\n",
       "      <td>7840516562</td>\n",
       "      <td>АРСЕНАЛ СПБ</td>\n",
       "      <td>ООО</td>\n",
       "    </tr>\n",
       "    <tr>\n",
       "      <th>2</th>\n",
       "      <td>7810299920</td>\n",
       "      <td>АРТ-КЛИМАТ</td>\n",
       "      <td>ООО</td>\n",
       "    </tr>\n",
       "    <tr>\n",
       "      <th>3</th>\n",
       "      <td>7810582416</td>\n",
       "      <td>ВОЛЬТ СПБ</td>\n",
       "      <td>ООО</td>\n",
       "    </tr>\n",
       "    <tr>\n",
       "      <th>4</th>\n",
       "      <td>7813539105</td>\n",
       "      <td>ЗАЛЕЙ ПОЛ</td>\n",
       "      <td>ООО</td>\n",
       "    </tr>\n",
       "    <tr>\n",
       "      <th>5</th>\n",
       "      <td>7839409453</td>\n",
       "      <td>ИК АЛЬЯНС</td>\n",
       "      <td>ООО</td>\n",
       "    </tr>\n",
       "    <tr>\n",
       "      <th>6</th>\n",
       "      <td>7811583941</td>\n",
       "      <td>СК ПЕГАС</td>\n",
       "      <td>ООО</td>\n",
       "    </tr>\n",
       "  </tbody>\n",
       "</table>\n",
       "</div>"
      ],
      "text/plain": [
       "          ITN name_contractor form\n",
       "0  7810727284       АКВАПОИНТ  ООО\n",
       "1  7840516562     АРСЕНАЛ СПБ  ООО\n",
       "2  7810299920      АРТ-КЛИМАТ  ООО\n",
       "3  7810582416       ВОЛЬТ СПБ  ООО\n",
       "4  7813539105       ЗАЛЕЙ ПОЛ  ООО\n",
       "5  7839409453       ИК АЛЬЯНС  ООО\n",
       "6  7811583941        СК ПЕГАС  ООО"
      ]
     },
     "execution_count": 223,
     "metadata": {},
     "output_type": "execute_result"
    }
   ],
   "source": [
    "contractor.new_contractor()"
   ]
  },
  {
   "cell_type": "code",
   "execution_count": 224,
   "id": "737ee5a8",
   "metadata": {},
   "outputs": [
    {
     "name": "stdout",
     "output_type": "stream",
     "text": [
      "Файл записан\n"
     ]
    }
   ],
   "source": [
    "contractor.end_work()"
   ]
  },
  {
   "cell_type": "code",
   "execution_count": 13,
   "id": "f7724670",
   "metadata": {},
   "outputs": [],
   "source": [
    "# Расчёт задолности по Объекту\n",
    "class ObjectDebt(): \n",
    "    \n",
    "    def __init__(self, data):\n",
    "        self.data = data\n",
    "    \n",
    "# Расчёт задолности по Контрагенту\n",
    "\n",
    "\n",
    "class CotractorDebt():\n",
    "\n",
    "    def __init__(self, data):\n",
    "        self.data = data\n",
    "\n",
    "# Расчёт задолности по Контракту\n",
    "\n",
    "class ContractDebt():\n",
    "    pass"
   ]
  },
  {
   "cell_type": "code",
   "execution_count": 3,
   "id": "ff6f02e2",
   "metadata": {},
   "outputs": [],
   "source": [
    "contractor = pd.read_csv('contractor_02-06-2022.csv.csv')"
   ]
  },
  {
   "cell_type": "code",
   "execution_count": 268,
   "id": "84913e3b",
   "metadata": {},
   "outputs": [
    {
     "data": {
      "text/html": [
       "<div>\n",
       "<style scoped>\n",
       "    .dataframe tbody tr th:only-of-type {\n",
       "        vertical-align: middle;\n",
       "    }\n",
       "\n",
       "    .dataframe tbody tr th {\n",
       "        vertical-align: top;\n",
       "    }\n",
       "\n",
       "    .dataframe thead th {\n",
       "        text-align: right;\n",
       "    }\n",
       "</style>\n",
       "<table border=\"1\" class=\"dataframe\">\n",
       "  <thead>\n",
       "    <tr style=\"text-align: right;\">\n",
       "      <th></th>\n",
       "      <th>ITN</th>\n",
       "      <th>name_contractor</th>\n",
       "      <th>form</th>\n",
       "    </tr>\n",
       "  </thead>\n",
       "  <tbody>\n",
       "    <tr>\n",
       "      <th>0</th>\n",
       "      <td>7816659721</td>\n",
       "      <td>ПСК Аракс</td>\n",
       "      <td>ООО</td>\n",
       "    </tr>\n",
       "    <tr>\n",
       "      <th>1</th>\n",
       "      <td>7811147430</td>\n",
       "      <td>ПЕТРОПРОФИЛЬ ПЛЮС</td>\n",
       "      <td>OOO</td>\n",
       "    </tr>\n",
       "    <tr>\n",
       "      <th>2</th>\n",
       "      <td>1657147001</td>\n",
       "      <td>ОТИС ГРУПП</td>\n",
       "      <td>'OOO'</td>\n",
       "    </tr>\n",
       "  </tbody>\n",
       "</table>\n",
       "</div>"
      ],
      "text/plain": [
       "          ITN    name_contractor   form\n",
       "0  7816659721          ПСК Аракс    ООО\n",
       "1  7811147430  ПЕТРОПРОФИЛЬ ПЛЮС    OOO\n",
       "2  1657147001         ОТИС ГРУПП  'OOO'"
      ]
     },
     "execution_count": 268,
     "metadata": {},
     "output_type": "execute_result"
    }
   ],
   "source": [
    "contractor.iloc[0]['adress']"
   ]
  },
  {
   "cell_type": "code",
   "execution_count": 269,
   "id": "ff16ec39",
   "metadata": {},
   "outputs": [
    {
     "data": {
      "text/html": [
       "<div>\n",
       "<style scoped>\n",
       "    .dataframe tbody tr th:only-of-type {\n",
       "        vertical-align: middle;\n",
       "    }\n",
       "\n",
       "    .dataframe tbody tr th {\n",
       "        vertical-align: top;\n",
       "    }\n",
       "\n",
       "    .dataframe thead th {\n",
       "        text-align: right;\n",
       "    }\n",
       "</style>\n",
       "<table border=\"1\" class=\"dataframe\">\n",
       "  <thead>\n",
       "    <tr style=\"text-align: right;\">\n",
       "      <th></th>\n",
       "      <th>ITN</th>\n",
       "      <th>name_contractor</th>\n",
       "      <th>form</th>\n",
       "    </tr>\n",
       "  </thead>\n",
       "  <tbody>\n",
       "    <tr>\n",
       "      <th>0</th>\n",
       "      <td>7816659721</td>\n",
       "      <td>ПСК Аракс</td>\n",
       "      <td>ООО</td>\n",
       "    </tr>\n",
       "  </tbody>\n",
       "</table>\n",
       "</div>"
      ],
      "text/plain": [
       "          ITN name_contractor form\n",
       "0  7816659721       ПСК Аракс  ООО"
      ]
     },
     "execution_count": 269,
     "metadata": {},
     "output_type": "execute_result"
    }
   ],
   "source": [
    "contractor[contractor['ITN'] == 7816659721]"
   ]
  },
  {
   "cell_type": "code",
   "execution_count": 276,
   "id": "5c83d035",
   "metadata": {},
   "outputs": [
    {
     "data": {
      "text/plain": [
       "True"
      ]
     },
     "execution_count": 276,
     "metadata": {},
     "output_type": "execute_result"
    }
   ],
   "source": [
    "contractor.isin({'ITN' : [7816659721]}).any()[0]"
   ]
  },
  {
   "cell_type": "code",
   "execution_count": 191,
   "id": "f442704a",
   "metadata": {},
   "outputs": [],
   "source": [
    "data2 = pd.read_csv('contract _test.csv', sep =';')"
   ]
  },
  {
   "cell_type": "code",
   "execution_count": 192,
   "id": "44a733e5",
   "metadata": {},
   "outputs": [
    {
     "data": {
      "text/html": [
       "<div>\n",
       "<style scoped>\n",
       "    .dataframe tbody tr th:only-of-type {\n",
       "        vertical-align: middle;\n",
       "    }\n",
       "\n",
       "    .dataframe tbody tr th {\n",
       "        vertical-align: top;\n",
       "    }\n",
       "\n",
       "    .dataframe thead th {\n",
       "        text-align: right;\n",
       "    }\n",
       "</style>\n",
       "<table border=\"1\" class=\"dataframe\">\n",
       "  <thead>\n",
       "    <tr style=\"text-align: right;\">\n",
       "      <th></th>\n",
       "      <th>number</th>\n",
       "      <th>data</th>\n",
       "      <th>INT_contractor</th>\n",
       "      <th>our_template</th>\n",
       "      <th>price</th>\n",
       "      <th>object</th>\n",
       "      <th>gu</th>\n",
       "      <th>gp</th>\n",
       "      <th>prepayment</th>\n",
       "    </tr>\n",
       "  </thead>\n",
       "  <tbody>\n",
       "    <tr>\n",
       "      <th>0</th>\n",
       "      <td>ЛТС-123</td>\n",
       "      <td>12.02.2021</td>\n",
       "      <td>7816659721</td>\n",
       "      <td>1</td>\n",
       "      <td>1300000.0</td>\n",
       "      <td>NEW_TIME</td>\n",
       "      <td>0.05</td>\n",
       "      <td>0,02</td>\n",
       "      <td>0</td>\n",
       "    </tr>\n",
       "  </tbody>\n",
       "</table>\n",
       "</div>"
      ],
      "text/plain": [
       "    number        data  INT_contractor  our_template      price    object  \\\n",
       "0  ЛТС-123  12.02.2021      7816659721             1  1300000.0  NEW_TIME   \n",
       "\n",
       "     gu    gp  prepayment  \n",
       "0  0.05  0,02           0  "
      ]
     },
     "execution_count": 192,
     "metadata": {},
     "output_type": "execute_result"
    }
   ],
   "source": [
    "data2"
   ]
  },
  {
   "cell_type": "code",
   "execution_count": 245,
   "id": "b517d4ae",
   "metadata": {},
   "outputs": [],
   "source": [
    "def check_number1(data, number_contr):\n",
    "    if data.isin({'number' : [number_contr]}).any()[0]:\n",
    "        print(f'Контракт c № {number_contr} уже есть в Базе')\n",
    "    else:\n",
    "        print(f'Номер {number_contr} свободен, можно использовать!')"
   ]
  },
  {
   "cell_type": "code",
   "execution_count": null,
   "id": "17f67c7a",
   "metadata": {},
   "outputs": [],
   "source": [
    "def new_contract1(data):\n",
    "    new_row = {}\n",
    "    for i in data.columns:\n",
    "        print(f'Введите информацию {i}')\n",
    "        a = input()\n",
    "        new_row[i] = a\n",
    "#             if i == 'our_template':\n",
    "#                 if a == 1:\n",
    "    new_row = pd.Series(data=new_row)\n",
    "    return data.append(new_row, ignore_index=True)"
   ]
  },
  {
   "cell_type": "code",
   "execution_count": 194,
   "id": "c9f1dc3d",
   "metadata": {},
   "outputs": [],
   "source": [
    "def drop_contract1(data, number_contr):\n",
    "        \"\"\" Удаление по номеру контракта\"\"\"\n",
    "        data.set_index('number', inplace = True)\n",
    "        data.drop(number_contr, inplace = True)\n",
    "        print(f'Договор № {number_contr} удален из базы')\n",
    "        data.reset_index(inplace=True)\n",
    "        return data"
   ]
  },
  {
   "cell_type": "code",
   "execution_count": null,
   "id": "7d6cdc18",
   "metadata": {},
   "outputs": [],
   "source": [
    "def check_contractor1(contractor):\n",
    "# Проверка на наличие контрагента в Базе по ИНН\n",
    "    contractor['ITN'] = contractor['ITN'].astype(str) # Убрать после того, как разберусь с типами во всех таблица\n",
    "    print(f'Введите ИНН контрагента')\n",
    "    ITN_contractor = input()\n",
    "    if contractor.isin({'ITN' : [ITN_contractor]}).any()[0]:\n",
    "        print(f'Контрагент с ИНН {ITN_contractor} уже есть в Базе')\n",
    "        return contractor[contractor['ITN'] == ITN_contractor]\n",
    "    else:\n",
    "        print(f'Контрагентa c ИНН {ITN_contractor} нет в Базе Контрагентов')"
   ]
  },
  {
   "cell_type": "code",
   "execution_count": 8,
   "id": "7c4b91fa",
   "metadata": {},
   "outputs": [],
   "source": [
    "today_day = datetime.today().strftime('%d-%m-%Y')"
   ]
  },
  {
   "cell_type": "code",
   "execution_count": 10,
   "id": "3fcc9ce2",
   "metadata": {},
   "outputs": [],
   "source": [
    "name_file = 'money_{}.csv'"
   ]
  },
  {
   "cell_type": "code",
   "execution_count": 11,
   "id": "96980f5d",
   "metadata": {},
   "outputs": [
    {
     "data": {
      "text/plain": [
       "'money_02-06-2022.csv'"
      ]
     },
     "execution_count": 11,
     "metadata": {},
     "output_type": "execute_result"
    }
   ],
   "source": [
    "name_file.format(today_day)"
   ]
  },
  {
   "cell_type": "code",
   "execution_count": null,
   "id": "587246fb",
   "metadata": {},
   "outputs": [],
   "source": []
  }
 ],
 "metadata": {
  "kernelspec": {
   "display_name": "Python 3 (ipykernel)",
   "language": "python",
   "name": "python3"
  },
  "language_info": {
   "codemirror_mode": {
    "name": "ipython",
    "version": 3
   },
   "file_extension": ".py",
   "mimetype": "text/x-python",
   "name": "python",
   "nbconvert_exporter": "python",
   "pygments_lexer": "ipython3",
   "version": "3.9.7"
  }
 },
 "nbformat": 4,
 "nbformat_minor": 5
}
