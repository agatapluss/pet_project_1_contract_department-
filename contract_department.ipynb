{
 "cells": [
  {
   "cell_type": "code",
   "execution_count": 2,
   "id": "f324a36e",
   "metadata": {},
   "outputs": [],
   "source": [
    "import pandas as pd\n",
    "import numpy as np"
   ]
  },
  {
   "cell_type": "markdown",
   "id": "4c69b3c4",
   "metadata": {},
   "source": [
    "Информация по талицам:\n",
    "\n",
    "contractor_test - информация о контрагентах \n",
    "\n",
    " - id - идентификационный номер\n",
    " - name_contractor - название компании контрагента\n",
    " - form - передача форм собственности предприятий\n",
    " - ITN - ИНН\n",
    " \n",
    "contractor_test - информация о контранках\n",
    "\n",
    " - number - номер договора\n",
    " - data - дата заключения договора\n",
    " - INT_contractor - ИНН контрагента, с которым заключен Договор\n",
    " - our_template\t - наш шаблон Договора (1 - Наш договор; 0 - Договор контрагента)\n",
    " - price - стоимость контракта \n",
    " - object - объект строительства\n",
    " - gu - гарантийные удержания\n",
    " - gp - ген.услуги\n",
    " - prepayment - аванс\n"
   ]
  },
  {
   "cell_type": "code",
   "execution_count": 4,
   "id": "f7724670",
   "metadata": {},
   "outputs": [],
   "source": [
    "# Информация о Контрактах\n",
    "\n",
    "class WorkWithContract():\n",
    "    \n",
    "    def __init__(self, data):\n",
    "        self.data = data\n",
    "        self.gu = 0.05\n",
    "        self.gp = 0.02\n",
    "        \n",
    "    def new_contract(self.data):\n",
    "        for i in self.data.columns:\n",
    "            print(f'Введите информацию {i}')\n",
    "            a = input()\n",
    "            if i == 'our_template':\n",
    "                if a == 1:\n",
    "                    \n",
    "                \n",
    "#         new_row = pd.Series(data={'name':'Geo', 'physics':87, 'chemistry':92})\n",
    "        return self.data.append(new_row, ignore_index=False)\n",
    "\n",
    "\n",
    "\n",
    "# Расчёт задолности по Объекту\n",
    "\n",
    "class ObjectDebt(): \n",
    "    \n",
    "    def __init__(self, data):\n",
    "        self.data = data\n",
    "    \n",
    "# Расчёт задолности по Контрагенту\n",
    "\n",
    "\n",
    "class CotractorDebt():\n",
    "\n",
    "    def __init__(self, data):\n",
    "        self.data = data\n",
    "\n",
    "# Расчёт задолности по Контракту\n",
    "\n",
    "class ContractDebt():\n",
    "    \n",
    "    def __inin__(self, data):"
   ]
  },
  {
   "cell_type": "code",
   "execution_count": 3,
   "id": "ff6f02e2",
   "metadata": {},
   "outputs": [],
   "source": [
    "contractor = pd.read_csv('contractor_test.csv', sep =';')"
   ]
  },
  {
   "cell_type": "code",
   "execution_count": 9,
   "id": "84913e3b",
   "metadata": {},
   "outputs": [
    {
     "data": {
      "text/html": [
       "<div>\n",
       "<style scoped>\n",
       "    .dataframe tbody tr th:only-of-type {\n",
       "        vertical-align: middle;\n",
       "    }\n",
       "\n",
       "    .dataframe tbody tr th {\n",
       "        vertical-align: top;\n",
       "    }\n",
       "\n",
       "    .dataframe thead th {\n",
       "        text-align: right;\n",
       "    }\n",
       "</style>\n",
       "<table border=\"1\" class=\"dataframe\">\n",
       "  <thead>\n",
       "    <tr style=\"text-align: right;\">\n",
       "      <th></th>\n",
       "      <th>id</th>\n",
       "      <th>name_contractor</th>\n",
       "      <th>form</th>\n",
       "      <th>ITN</th>\n",
       "      <th>Unnamed: 4</th>\n",
       "    </tr>\n",
       "  </thead>\n",
       "  <tbody>\n",
       "    <tr>\n",
       "      <th>0</th>\n",
       "      <td>1</td>\n",
       "      <td>ПСК Аракс</td>\n",
       "      <td>ООО</td>\n",
       "      <td>7816659721</td>\n",
       "      <td>NaN</td>\n",
       "    </tr>\n",
       "  </tbody>\n",
       "</table>\n",
       "</div>"
      ],
      "text/plain": [
       "   id name_contractor form         ITN  Unnamed: 4\n",
       "0   1       ПСК Аракс  ООО  7816659721         NaN"
      ]
     },
     "execution_count": 9,
     "metadata": {},
     "output_type": "execute_result"
    }
   ],
   "source": [
    "contractor"
   ]
  },
  {
   "cell_type": "code",
   "execution_count": 21,
   "id": "f442704a",
   "metadata": {},
   "outputs": [],
   "source": [
    "data = pd.read_csv('contract _test.csv', sep =';')"
   ]
  },
  {
   "cell_type": "code",
   "execution_count": 22,
   "id": "44a733e5",
   "metadata": {},
   "outputs": [
    {
     "data": {
      "text/html": [
       "<div>\n",
       "<style scoped>\n",
       "    .dataframe tbody tr th:only-of-type {\n",
       "        vertical-align: middle;\n",
       "    }\n",
       "\n",
       "    .dataframe tbody tr th {\n",
       "        vertical-align: top;\n",
       "    }\n",
       "\n",
       "    .dataframe thead th {\n",
       "        text-align: right;\n",
       "    }\n",
       "</style>\n",
       "<table border=\"1\" class=\"dataframe\">\n",
       "  <thead>\n",
       "    <tr style=\"text-align: right;\">\n",
       "      <th></th>\n",
       "      <th>number</th>\n",
       "      <th>data</th>\n",
       "      <th>INT_contractor</th>\n",
       "      <th>our_template</th>\n",
       "      <th>price</th>\n",
       "      <th>object</th>\n",
       "      <th>gu</th>\n",
       "      <th>gp</th>\n",
       "      <th>prepayment</th>\n",
       "    </tr>\n",
       "  </thead>\n",
       "  <tbody>\n",
       "    <tr>\n",
       "      <th>0</th>\n",
       "      <td>ЛТС-123</td>\n",
       "      <td>12.02.2021</td>\n",
       "      <td>7816659721</td>\n",
       "      <td>1</td>\n",
       "      <td>1300000.0</td>\n",
       "      <td>NEW_TIME</td>\n",
       "      <td>0.05</td>\n",
       "      <td>0,02</td>\n",
       "      <td>0</td>\n",
       "    </tr>\n",
       "  </tbody>\n",
       "</table>\n",
       "</div>"
      ],
      "text/plain": [
       "    number        data  INT_contractor  our_template      price    object  \\\n",
       "0  ЛТС-123  12.02.2021      7816659721             1  1300000.0  NEW_TIME   \n",
       "\n",
       "     gu    gp  prepayment  \n",
       "0  0.05  0,02           0  "
      ]
     },
     "execution_count": 22,
     "metadata": {},
     "output_type": "execute_result"
    }
   ],
   "source": [
    "data"
   ]
  },
  {
   "cell_type": "code",
   "execution_count": null,
   "id": "14261bbd",
   "metadata": {},
   "outputs": [],
   "source": []
  }
 ],
 "metadata": {
  "kernelspec": {
   "display_name": "Python 3 (ipykernel)",
   "language": "python",
   "name": "python3"
  },
  "language_info": {
   "codemirror_mode": {
    "name": "ipython",
    "version": 3
   },
   "file_extension": ".py",
   "mimetype": "text/x-python",
   "name": "python",
   "nbconvert_exporter": "python",
   "pygments_lexer": "ipython3",
   "version": "3.9.7"
  }
 },
 "nbformat": 4,
 "nbformat_minor": 5
}
